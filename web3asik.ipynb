{
  "nbformat": 4,
  "nbformat_minor": 0,
  "metadata": {
    "colab": {
      "provenance": [],
      "authorship_tag": "ABX9TyMOrN9O2eyEeB+U7KuQmHWP",
      "include_colab_link": true
    },
    "kernelspec": {
      "name": "python3",
      "display_name": "Python 3"
    },
    "language_info": {
      "name": "python"
    }
  },
  "cells": [
    {
      "cell_type": "markdown",
      "metadata": {
        "id": "view-in-github",
        "colab_type": "text"
      },
      "source": [
        "<a href=\"https://colab.research.google.com/github/aqlaniwafi10/web3_coba/blob/main/web3asik.ipynb\" target=\"_parent\"><img src=\"https://colab.research.google.com/assets/colab-badge.svg\" alt=\"Open In Colab\"/></a>"
      ]
    },
    {
      "cell_type": "code",
      "source": [
        "!pip install web3"
      ],
      "metadata": {
        "colab": {
          "base_uri": "https://localhost:8080/"
        },
        "id": "REGbl6PiklCR",
        "outputId": "90a01172-00f6-4e32-cb8f-c55968ecc9e2"
      },
      "execution_count": null,
      "outputs": [
        {
          "output_type": "stream",
          "name": "stdout",
          "text": [
            "Collecting web3\n",
            "  Downloading web3-6.20.1-py3-none-any.whl.metadata (4.5 kB)\n",
            "Requirement already satisfied: aiohttp>=3.7.4.post0 in /usr/local/lib/python3.10/dist-packages (from web3) (3.9.5)\n",
            "Collecting eth-abi>=4.0.0 (from web3)\n",
            "  Downloading eth_abi-5.1.0-py3-none-any.whl.metadata (5.1 kB)\n",
            "Collecting eth-account<0.13,>=0.8.0 (from web3)\n",
            "  Downloading eth_account-0.12.3-py3-none-any.whl.metadata (5.1 kB)\n",
            "Collecting eth-hash>=0.5.1 (from eth-hash[pycryptodome]>=0.5.1->web3)\n",
            "  Downloading eth_hash-0.7.0-py3-none-any.whl.metadata (5.4 kB)\n",
            "Collecting eth-typing!=4.2.0,>=3.0.0 (from web3)\n",
            "  Downloading eth_typing-4.4.0-py3-none-any.whl.metadata (5.1 kB)\n",
            "Collecting eth-utils>=2.1.0 (from web3)\n",
            "  Downloading eth_utils-4.1.1-py3-none-any.whl.metadata (5.4 kB)\n",
            "Collecting hexbytes<0.4.0,>=0.1.0 (from web3)\n",
            "  Downloading hexbytes-0.3.1-py3-none-any.whl.metadata (5.5 kB)\n",
            "Requirement already satisfied: jsonschema>=4.0.0 in /usr/local/lib/python3.10/dist-packages (from web3) (4.23.0)\n",
            "Collecting lru-dict<1.3.0,>=1.1.6 (from web3)\n",
            "  Downloading lru_dict-1.2.0-cp310-cp310-manylinux_2_5_x86_64.manylinux1_x86_64.manylinux_2_17_x86_64.manylinux2014_x86_64.whl.metadata (4.5 kB)\n",
            "Collecting protobuf>=4.21.6 (from web3)\n",
            "  Downloading protobuf-5.27.2-cp38-abi3-manylinux2014_x86_64.whl.metadata (592 bytes)\n",
            "Requirement already satisfied: requests>=2.16.0 in /usr/local/lib/python3.10/dist-packages (from web3) (2.31.0)\n",
            "Requirement already satisfied: typing-extensions>=4.0.1 in /usr/local/lib/python3.10/dist-packages (from web3) (4.12.2)\n",
            "Collecting websockets>=10.0.0 (from web3)\n",
            "  Downloading websockets-12.0-cp310-cp310-manylinux_2_5_x86_64.manylinux1_x86_64.manylinux_2_17_x86_64.manylinux2014_x86_64.whl.metadata (6.6 kB)\n",
            "Collecting pyunormalize>=15.0.0 (from web3)\n",
            "  Downloading pyunormalize-15.1.0.tar.gz (515 kB)\n",
            "\u001b[2K     \u001b[90m━━━━━━━━━━━━━━━━━━━━━━━━━━━━━━━━━━━━━━━━\u001b[0m \u001b[32m515.5/515.5 kB\u001b[0m \u001b[31m8.3 MB/s\u001b[0m eta \u001b[36m0:00:00\u001b[0m\n",
            "\u001b[?25h  Preparing metadata (setup.py) ... \u001b[?25l\u001b[?25hdone\n",
            "Requirement already satisfied: aiosignal>=1.1.2 in /usr/local/lib/python3.10/dist-packages (from aiohttp>=3.7.4.post0->web3) (1.3.1)\n",
            "Requirement already satisfied: attrs>=17.3.0 in /usr/local/lib/python3.10/dist-packages (from aiohttp>=3.7.4.post0->web3) (23.2.0)\n",
            "Requirement already satisfied: frozenlist>=1.1.1 in /usr/local/lib/python3.10/dist-packages (from aiohttp>=3.7.4.post0->web3) (1.4.1)\n",
            "Requirement already satisfied: multidict<7.0,>=4.5 in /usr/local/lib/python3.10/dist-packages (from aiohttp>=3.7.4.post0->web3) (6.0.5)\n",
            "Requirement already satisfied: yarl<2.0,>=1.0 in /usr/local/lib/python3.10/dist-packages (from aiohttp>=3.7.4.post0->web3) (1.9.4)\n",
            "Requirement already satisfied: async-timeout<5.0,>=4.0 in /usr/local/lib/python3.10/dist-packages (from aiohttp>=3.7.4.post0->web3) (4.0.3)\n",
            "Collecting parsimonious<0.11.0,>=0.10.0 (from eth-abi>=4.0.0->web3)\n",
            "  Downloading parsimonious-0.10.0-py3-none-any.whl.metadata (25 kB)\n",
            "Collecting bitarray>=2.4.0 (from eth-account<0.13,>=0.8.0->web3)\n",
            "  Downloading bitarray-2.9.2-cp310-cp310-manylinux_2_17_x86_64.manylinux2014_x86_64.whl.metadata (34 kB)\n",
            "Collecting eth-keyfile>=0.6.0 (from eth-account<0.13,>=0.8.0->web3)\n",
            "  Downloading eth_keyfile-0.8.1-py3-none-any.whl.metadata (8.5 kB)\n",
            "Collecting eth-keys>=0.4.0 (from eth-account<0.13,>=0.8.0->web3)\n",
            "  Downloading eth_keys-0.5.1-py3-none-any.whl.metadata (13 kB)\n",
            "Collecting eth-rlp>=2.1.0 (from eth-account<0.13,>=0.8.0->web3)\n",
            "  Downloading eth_rlp-2.1.0-py3-none-any.whl.metadata (4.6 kB)\n",
            "INFO: pip is looking at multiple versions of eth-account to determine which version is compatible with other requirements. This could take a while.\n",
            "Collecting eth-account<0.13,>=0.8.0 (from web3)\n",
            "  Downloading eth_account-0.12.2-py3-none-any.whl.metadata (5.1 kB)\n",
            "  Downloading eth_account-0.12.1-py3-none-any.whl.metadata (5.1 kB)\n",
            "  Downloading eth_account-0.12.0-py3-none-any.whl.metadata (5.1 kB)\n",
            "  Downloading eth_account-0.11.2-py3-none-any.whl.metadata (5.1 kB)\n",
            "Collecting rlp>=1.0.0 (from eth-account<0.13,>=0.8.0->web3)\n",
            "  Downloading rlp-4.0.1-py3-none-any.whl.metadata (4.6 kB)\n",
            "Collecting ckzg>=0.4.3 (from eth-account<0.13,>=0.8.0->web3)\n",
            "  Downloading ckzg-1.0.2-cp310-cp310-manylinux_2_17_x86_64.manylinux2014_x86_64.whl.metadata (683 bytes)\n",
            "Collecting pycryptodome<4,>=3.6.6 (from eth-hash[pycryptodome]>=0.5.1->web3)\n",
            "  Downloading pycryptodome-3.20.0-cp35-abi3-manylinux_2_17_x86_64.manylinux2014_x86_64.whl.metadata (3.4 kB)\n",
            "Collecting cytoolz>=0.10.1 (from eth-utils>=2.1.0->web3)\n",
            "  Downloading cytoolz-0.12.3-cp310-cp310-manylinux_2_17_x86_64.manylinux2014_x86_64.whl.metadata (4.6 kB)\n",
            "Requirement already satisfied: jsonschema-specifications>=2023.03.6 in /usr/local/lib/python3.10/dist-packages (from jsonschema>=4.0.0->web3) (2023.12.1)\n",
            "Requirement already satisfied: referencing>=0.28.4 in /usr/local/lib/python3.10/dist-packages (from jsonschema>=4.0.0->web3) (0.35.1)\n",
            "Requirement already satisfied: rpds-py>=0.7.1 in /usr/local/lib/python3.10/dist-packages (from jsonschema>=4.0.0->web3) (0.19.0)\n",
            "Requirement already satisfied: charset-normalizer<4,>=2 in /usr/local/lib/python3.10/dist-packages (from requests>=2.16.0->web3) (3.3.2)\n",
            "Requirement already satisfied: idna<4,>=2.5 in /usr/local/lib/python3.10/dist-packages (from requests>=2.16.0->web3) (3.7)\n",
            "Requirement already satisfied: urllib3<3,>=1.21.1 in /usr/local/lib/python3.10/dist-packages (from requests>=2.16.0->web3) (2.0.7)\n",
            "Requirement already satisfied: certifi>=2017.4.17 in /usr/local/lib/python3.10/dist-packages (from requests>=2.16.0->web3) (2024.7.4)\n",
            "Requirement already satisfied: toolz>=0.8.0 in /usr/local/lib/python3.10/dist-packages (from cytoolz>=0.10.1->eth-utils>=2.1.0->web3) (0.12.1)\n",
            "INFO: pip is looking at multiple versions of eth-rlp to determine which version is compatible with other requirements. This could take a while.\n",
            "Collecting eth-rlp>=0.3.0 (from eth-account<0.13,>=0.8.0->web3)\n",
            "  Downloading eth_rlp-2.0.0-py3-none-any.whl.metadata (4.6 kB)\n",
            "  Downloading eth_rlp-1.0.1-py3-none-any.whl.metadata (4.5 kB)\n",
            "Requirement already satisfied: regex>=2022.3.15 in /usr/local/lib/python3.10/dist-packages (from parsimonious<0.11.0,>=0.10.0->eth-abi>=4.0.0->web3) (2024.5.15)\n",
            "Downloading web3-6.20.1-py3-none-any.whl (1.6 MB)\n",
            "\u001b[2K   \u001b[90m━━━━━━━━━━━━━━━━━━━━━━━━━━━━━━━━━━━━━━━━\u001b[0m \u001b[32m1.6/1.6 MB\u001b[0m \u001b[31m43.5 MB/s\u001b[0m eta \u001b[36m0:00:00\u001b[0m\n",
            "\u001b[?25hDownloading eth_abi-5.1.0-py3-none-any.whl (29 kB)\n",
            "Downloading eth_account-0.11.2-py3-none-any.whl (355 kB)\n",
            "\u001b[2K   \u001b[90m━━━━━━━━━━━━━━━━━━━━━━━━━━━━━━━━━━━━━━━━\u001b[0m \u001b[32m355.4/355.4 kB\u001b[0m \u001b[31m19.3 MB/s\u001b[0m eta \u001b[36m0:00:00\u001b[0m\n",
            "\u001b[?25hDownloading eth_hash-0.7.0-py3-none-any.whl (8.7 kB)\n",
            "Downloading eth_typing-4.4.0-py3-none-any.whl (19 kB)\n",
            "Downloading eth_utils-4.1.1-py3-none-any.whl (96 kB)\n",
            "\u001b[2K   \u001b[90m━━━━━━━━━━━━━━━━━━━━━━━━━━━━━━━━━━━━━━━━\u001b[0m \u001b[32m96.0/96.0 kB\u001b[0m \u001b[31m5.2 MB/s\u001b[0m eta \u001b[36m0:00:00\u001b[0m\n",
            "\u001b[?25hDownloading hexbytes-0.3.1-py3-none-any.whl (5.9 kB)\n",
            "Downloading lru_dict-1.2.0-cp310-cp310-manylinux_2_5_x86_64.manylinux1_x86_64.manylinux_2_17_x86_64.manylinux2014_x86_64.whl (28 kB)\n",
            "Downloading protobuf-5.27.2-cp38-abi3-manylinux2014_x86_64.whl (309 kB)\n",
            "\u001b[2K   \u001b[90m━━━━━━━━━━━━━━━━━━━━━━━━━━━━━━━━━━━━━━━━\u001b[0m \u001b[32m309.3/309.3 kB\u001b[0m \u001b[31m14.8 MB/s\u001b[0m eta \u001b[36m0:00:00\u001b[0m\n",
            "\u001b[?25hDownloading websockets-12.0-cp310-cp310-manylinux_2_5_x86_64.manylinux1_x86_64.manylinux_2_17_x86_64.manylinux2014_x86_64.whl (130 kB)\n",
            "\u001b[2K   \u001b[90m━━━━━━━━━━━━━━━━━━━━━━━━━━━━━━━━━━━━━━━━\u001b[0m \u001b[32m130.2/130.2 kB\u001b[0m \u001b[31m8.3 MB/s\u001b[0m eta \u001b[36m0:00:00\u001b[0m\n",
            "\u001b[?25hDownloading bitarray-2.9.2-cp310-cp310-manylinux_2_17_x86_64.manylinux2014_x86_64.whl (288 kB)\n",
            "\u001b[2K   \u001b[90m━━━━━━━━━━━━━━━━━━━━━━━━━━━━━━━━━━━━━━━━\u001b[0m \u001b[32m288.3/288.3 kB\u001b[0m \u001b[31m14.4 MB/s\u001b[0m eta \u001b[36m0:00:00\u001b[0m\n",
            "\u001b[?25hDownloading ckzg-1.0.2-cp310-cp310-manylinux_2_17_x86_64.manylinux2014_x86_64.whl (139 kB)\n",
            "\u001b[2K   \u001b[90m━━━━━━━━━━━━━━━━━━━━━━━━━━━━━━━━━━━━━━━━\u001b[0m \u001b[32m139.8/139.8 kB\u001b[0m \u001b[31m7.9 MB/s\u001b[0m eta \u001b[36m0:00:00\u001b[0m\n",
            "\u001b[?25hDownloading cytoolz-0.12.3-cp310-cp310-manylinux_2_17_x86_64.manylinux2014_x86_64.whl (2.0 MB)\n",
            "\u001b[2K   \u001b[90m━━━━━━━━━━━━━━━━━━━━━━━━━━━━━━━━━━━━━━━━\u001b[0m \u001b[32m2.0/2.0 MB\u001b[0m \u001b[31m49.3 MB/s\u001b[0m eta \u001b[36m0:00:00\u001b[0m\n",
            "\u001b[?25hDownloading eth_keyfile-0.8.1-py3-none-any.whl (7.5 kB)\n",
            "Downloading eth_keys-0.5.1-py3-none-any.whl (21 kB)\n",
            "Downloading eth_rlp-1.0.1-py3-none-any.whl (4.9 kB)\n",
            "Downloading parsimonious-0.10.0-py3-none-any.whl (48 kB)\n",
            "\u001b[2K   \u001b[90m━━━━━━━━━━━━━━━━━━━━━━━━━━━━━━━━━━━━━━━━\u001b[0m \u001b[32m48.4/48.4 kB\u001b[0m \u001b[31m3.0 MB/s\u001b[0m eta \u001b[36m0:00:00\u001b[0m\n",
            "\u001b[?25hDownloading pycryptodome-3.20.0-cp35-abi3-manylinux_2_17_x86_64.manylinux2014_x86_64.whl (2.1 MB)\n",
            "\u001b[2K   \u001b[90m━━━━━━━━━━━━━━━━━━━━━━━━━━━━━━━━━━━━━━━━\u001b[0m \u001b[32m2.1/2.1 MB\u001b[0m \u001b[31m39.0 MB/s\u001b[0m eta \u001b[36m0:00:00\u001b[0m\n",
            "\u001b[?25hDownloading rlp-4.0.1-py3-none-any.whl (20 kB)\n",
            "Building wheels for collected packages: pyunormalize\n",
            "  Building wheel for pyunormalize (setup.py) ... \u001b[?25l\u001b[?25hdone\n",
            "  Created wheel for pyunormalize: filename=pyunormalize-15.1.0-py3-none-any.whl size=516031 sha256=e9854c77affe5addab44488604017d5008b2dabb14acd820f664db171afc2237\n",
            "  Stored in directory: /root/.cache/pip/wheels/b8/b6/c6/6fc11f58d3fd02f387cf3b18479bb5c6d4143995d0fa401622\n",
            "Successfully built pyunormalize\n",
            "Installing collected packages: lru-dict, ckzg, bitarray, websockets, pyunormalize, pycryptodome, protobuf, parsimonious, hexbytes, eth-typing, eth-hash, cytoolz, eth-utils, rlp, eth-keys, eth-abi, eth-rlp, eth-keyfile, eth-account, web3\n",
            "  Attempting uninstall: protobuf\n",
            "    Found existing installation: protobuf 3.20.3\n",
            "    Uninstalling protobuf-3.20.3:\n",
            "      Successfully uninstalled protobuf-3.20.3\n",
            "\u001b[31mERROR: pip's dependency resolver does not currently take into account all the packages that are installed. This behaviour is the source of the following dependency conflicts.\n",
            "cudf-cu12 24.4.1 requires protobuf<5,>=3.20, but you have protobuf 5.27.2 which is incompatible.\n",
            "google-ai-generativelanguage 0.6.6 requires protobuf!=3.20.0,!=3.20.1,!=4.21.0,!=4.21.1,!=4.21.2,!=4.21.3,!=4.21.4,!=4.21.5,<5.0.0dev,>=3.19.5, but you have protobuf 5.27.2 which is incompatible.\n",
            "google-cloud-aiplatform 1.59.0 requires protobuf!=3.20.0,!=3.20.1,!=4.21.0,!=4.21.1,!=4.21.2,!=4.21.3,!=4.21.4,!=4.21.5,<5.0.0dev,>=3.19.5, but you have protobuf 5.27.2 which is incompatible.\n",
            "google-cloud-bigquery-storage 2.25.0 requires protobuf!=3.20.0,!=3.20.1,!=4.21.0,!=4.21.1,!=4.21.2,!=4.21.3,!=4.21.4,!=4.21.5,<5.0.0dev,>=3.19.5, but you have protobuf 5.27.2 which is incompatible.\n",
            "google-cloud-datastore 2.19.0 requires protobuf!=3.20.0,!=3.20.1,!=4.21.0,!=4.21.1,!=4.21.2,!=4.21.3,!=4.21.4,!=4.21.5,<5.0.0dev,>=3.19.5, but you have protobuf 5.27.2 which is incompatible.\n",
            "google-cloud-firestore 2.16.1 requires protobuf!=3.20.0,!=3.20.1,!=4.21.0,!=4.21.1,!=4.21.2,!=4.21.3,!=4.21.4,!=4.21.5,<5.0.0dev,>=3.19.5, but you have protobuf 5.27.2 which is incompatible.\n",
            "tensorflow 2.15.0 requires protobuf!=4.21.0,!=4.21.1,!=4.21.2,!=4.21.3,!=4.21.4,!=4.21.5,<5.0.0dev,>=3.20.3, but you have protobuf 5.27.2 which is incompatible.\n",
            "tensorflow-metadata 1.15.0 requires protobuf<4.21,>=3.20.3; python_version < \"3.11\", but you have protobuf 5.27.2 which is incompatible.\u001b[0m\u001b[31m\n",
            "\u001b[0mSuccessfully installed bitarray-2.9.2 ckzg-1.0.2 cytoolz-0.12.3 eth-abi-5.1.0 eth-account-0.11.2 eth-hash-0.7.0 eth-keyfile-0.8.1 eth-keys-0.5.1 eth-rlp-1.0.1 eth-typing-4.4.0 eth-utils-4.1.1 hexbytes-0.3.1 lru-dict-1.2.0 parsimonious-0.10.0 protobuf-5.27.2 pycryptodome-3.20.0 pyunormalize-15.1.0 rlp-4.0.1 web3-6.20.1 websockets-12.0\n"
          ]
        }
      ]
    },
    {
      "cell_type": "code",
      "source": [
        "!pip install solana"
      ],
      "metadata": {
        "id": "VrGZEqYMk1jj"
      },
      "execution_count": null,
      "outputs": []
    },
    {
      "cell_type": "code",
      "execution_count": null,
      "metadata": {
        "id": "DQgaotHVkcpL",
        "colab": {
          "base_uri": "https://localhost:8080/"
        },
        "outputId": "d3b593c8-9cad-48bc-ce7a-2c9def61b011"
      },
      "outputs": [
        {
          "output_type": "stream",
          "name": "stdout",
          "text": [
            "Wallet 1 - Address: 0x527940505Be0067C7Dd2F50A01E54B412FE940c2, Private Key: 0xb2996bc5347b150da6e915d6ed329d83453653efd6a404128428d3870c5c24c7\n",
            "Wallet 2 - Address: 0xA16Bf54324Bc64694a930C7287E5430bb13a0720, Private Key: 0x34ee66934df99124a46ae31e4ffd6a143738b62dd8904dd4ed2323e2ed00ca2d\n"
          ]
        }
      ],
      "source": [
        "from web3 import Web3\n",
        "from eth_account import Account\n",
        "\n",
        "def create_base_wallets(num_wallets):\n",
        "    wallets = []\n",
        "    for _ in range(num_wallets):\n",
        "        account = Account.create()\n",
        "        wallets.append({\n",
        "            'address': account.address,\n",
        "            'private_key': account.key.hex()\n",
        "        })\n",
        "    return wallets\n",
        "\n",
        "# Example usage\n",
        "num_wallets = 2\n",
        "base_wallets = create_base_wallets(num_wallets)\n",
        "for i, wallet in enumerate(base_wallets):\n",
        "    print(f\"Wallet {i+1} - Address: {wallet['address']}, Private Key: {wallet['private_key']}\")"
      ]
    },
    {
      "cell_type": "code",
      "source": [
        "# base_wallets[\"name\"] = ['wallet1', 'wallet2']\n",
        "# base_wallets\n",
        "import pandas as pd\n",
        "a=pd.DataFrame(base_wallets)\n",
        "a"
      ],
      "metadata": {
        "id": "xksccbRZ2Urz"
      },
      "execution_count": null,
      "outputs": []
    },
    {
      "cell_type": "code",
      "source": [],
      "metadata": {
        "id": "0Wtf6Bxz3R0L"
      },
      "execution_count": null,
      "outputs": []
    },
    {
      "cell_type": "code",
      "source": [
        "from web3 import Web3\n",
        "\n",
        "# Menghubungkan ke jaringan Base\n",
        "web3 = Web3(Web3.HTTPProvider('https://base-mainnet.core.chainstack.com/96db4e6b368f402cf1eed404e332ed8c'))\n",
        "\n",
        "# Cek koneksi\n",
        "if web3.is_connected():\n",
        "    print(\"Connected to Base network\")\n",
        "else:\n",
        "    print(\"Failed to connect to Base network\")\n"
      ],
      "metadata": {
        "colab": {
          "base_uri": "https://localhost:8080/"
        },
        "id": "UpVvp-xo88Ag",
        "outputId": "316dba3b-c0cf-418b-d225-70ebe303da48"
      },
      "execution_count": null,
      "outputs": [
        {
          "output_type": "stream",
          "name": "stdout",
          "text": [
            "Connected to Base network\n"
          ]
        }
      ]
    },
    {
      "cell_type": "code",
      "source": [
        "# Ganti dengan private key Anda\n",
        "private_key = \"0xdc9e7b5ab59e423954a9f4b851fad1631b36a93d2c40a922bf6128ff0adbafb9\"\n",
        "account = web3.eth.account.from_key(private_key)\n",
        "print(f\"Connected to wallet: {account.address}\")\n"
      ],
      "metadata": {
        "colab": {
          "base_uri": "https://localhost:8080/"
        },
        "id": "nFcU2JFU_nTL",
        "outputId": "693e6516-e46f-41e3-ecbb-8d0afd905026"
      },
      "execution_count": null,
      "outputs": [
        {
          "output_type": "stream",
          "name": "stdout",
          "text": [
            "Connected to wallet: 0xB1Eb2e73437377158d5D56e0F32160a3b96f9Ef2\n"
          ]
        }
      ]
    },
    {
      "cell_type": "code",
      "source": [
        "balance = web3.eth.get_balance(account.address)\n",
        "print(f\"Balance: {web3.from_wei(balance, 'ether')} ETH\")\n"
      ],
      "metadata": {
        "colab": {
          "base_uri": "https://localhost:8080/"
        },
        "id": "zac0BxeL_uuZ",
        "outputId": "4c3c7ee9-5de7-4f66-be89-794a29a3b984"
      },
      "execution_count": null,
      "outputs": [
        {
          "output_type": "stream",
          "name": "stdout",
          "text": [
            "Balance: 0.00012521903762622 ETH\n"
          ]
        }
      ]
    },
    {
      "cell_type": "code",
      "source": [
        "# Parameter transaksi\n",
        "to_address = \"0x0a9B09E6F88Ace68D4658a00DefFB0776155fcad\"  # Ganti dengan alamat penerima\n",
        "amount = web3.to_wei(0.0001, 'ether')  # Jumlah ETH yang akan dikirim\n",
        "\n",
        "# Membuat transaksi\n",
        "transaction = {\n",
        "    'to': to_address,\n",
        "    'value': amount,\n",
        "    'gas': 5,  # Gas limit standar untuk transaksi ETH\n",
        "    'gasPrice': web3.to_wei('50', 'gwei'),  # Harga gas\n",
        "    'nonce': web3.eth.get_transaction_count(account.address),  # Nonce dari wallet Anda\n",
        "    'chainId': 8453  # ID chain untuk jaringan Base\n",
        "}\n",
        "\n",
        "# Menandatangani transaksi dengan private key\n",
        "signed_txn = web3.eth.account.sign_transaction(transaction, private_key)\n",
        "\n",
        "# Mengirim transaksi\n",
        "txn_hash = web3.eth.send_raw_transaction(signed_txn.rawTransaction)\n",
        "\n",
        "# Mendapatkan hash transaksi\n",
        "print(f\"Transaction sent with hash: https://basescan.org/tx/{txn_hash.hex()}\")\n"
      ],
      "metadata": {
        "id": "ybn0nkNvAMZA",
        "colab": {
          "base_uri": "https://localhost:8080/",
          "height": 365
        },
        "outputId": "5ae84a67-7857-4992-e252-4e93eeb773c6"
      },
      "execution_count": null,
      "outputs": [
        {
          "output_type": "error",
          "ename": "ValueError",
          "evalue": "{'code': -32000, 'message': 'intrinsic gas too low: gas 5, minimum needed 21000'}",
          "traceback": [
            "\u001b[0;31m---------------------------------------------------------------------------\u001b[0m",
            "\u001b[0;31mValueError\u001b[0m                                Traceback (most recent call last)",
            "\u001b[0;32m<ipython-input-7-2f4d6d7449bb>\u001b[0m in \u001b[0;36m<cell line: 19>\u001b[0;34m()\u001b[0m\n\u001b[1;32m     17\u001b[0m \u001b[0;34m\u001b[0m\u001b[0m\n\u001b[1;32m     18\u001b[0m \u001b[0;31m# Mengirim transaksi\u001b[0m\u001b[0;34m\u001b[0m\u001b[0;34m\u001b[0m\u001b[0m\n\u001b[0;32m---> 19\u001b[0;31m \u001b[0mtxn_hash\u001b[0m \u001b[0;34m=\u001b[0m \u001b[0mweb3\u001b[0m\u001b[0;34m.\u001b[0m\u001b[0meth\u001b[0m\u001b[0;34m.\u001b[0m\u001b[0msend_raw_transaction\u001b[0m\u001b[0;34m(\u001b[0m\u001b[0msigned_txn\u001b[0m\u001b[0;34m.\u001b[0m\u001b[0mrawTransaction\u001b[0m\u001b[0;34m)\u001b[0m\u001b[0;34m\u001b[0m\u001b[0;34m\u001b[0m\u001b[0m\n\u001b[0m\u001b[1;32m     20\u001b[0m \u001b[0;34m\u001b[0m\u001b[0m\n\u001b[1;32m     21\u001b[0m \u001b[0;31m# Mendapatkan hash transaksi\u001b[0m\u001b[0;34m\u001b[0m\u001b[0;34m\u001b[0m\u001b[0m\n",
            "\u001b[0;32m/usr/local/lib/python3.10/dist-packages/web3/eth/eth.py\u001b[0m in \u001b[0;36msend_raw_transaction\u001b[0;34m(self, transaction)\u001b[0m\n\u001b[1;32m    394\u001b[0m \u001b[0;34m\u001b[0m\u001b[0m\n\u001b[1;32m    395\u001b[0m     \u001b[0;32mdef\u001b[0m \u001b[0msend_raw_transaction\u001b[0m\u001b[0;34m(\u001b[0m\u001b[0mself\u001b[0m\u001b[0;34m,\u001b[0m \u001b[0mtransaction\u001b[0m\u001b[0;34m:\u001b[0m \u001b[0mUnion\u001b[0m\u001b[0;34m[\u001b[0m\u001b[0mHexStr\u001b[0m\u001b[0;34m,\u001b[0m \u001b[0mbytes\u001b[0m\u001b[0;34m]\u001b[0m\u001b[0;34m)\u001b[0m \u001b[0;34m->\u001b[0m \u001b[0mHexBytes\u001b[0m\u001b[0;34m:\u001b[0m\u001b[0;34m\u001b[0m\u001b[0;34m\u001b[0m\u001b[0m\n\u001b[0;32m--> 396\u001b[0;31m         \u001b[0;32mreturn\u001b[0m \u001b[0mself\u001b[0m\u001b[0;34m.\u001b[0m\u001b[0m_send_raw_transaction\u001b[0m\u001b[0;34m(\u001b[0m\u001b[0mtransaction\u001b[0m\u001b[0;34m)\u001b[0m\u001b[0;34m\u001b[0m\u001b[0;34m\u001b[0m\u001b[0m\n\u001b[0m\u001b[1;32m    397\u001b[0m \u001b[0;34m\u001b[0m\u001b[0m\n\u001b[1;32m    398\u001b[0m     \u001b[0;31m# eth_getBlockByHash\u001b[0m\u001b[0;34m\u001b[0m\u001b[0;34m\u001b[0m\u001b[0m\n",
            "\u001b[0;32m/usr/local/lib/python3.10/dist-packages/web3/module.py\u001b[0m in \u001b[0;36mcaller\u001b[0;34m(*args, **kwargs)\u001b[0m\n\u001b[1;32m     73\u001b[0m             \u001b[0mnull_result_formatters\u001b[0m\u001b[0;34m,\u001b[0m\u001b[0;34m\u001b[0m\u001b[0;34m\u001b[0m\u001b[0m\n\u001b[1;32m     74\u001b[0m         ) = response_formatters\n\u001b[0;32m---> 75\u001b[0;31m         result = w3.manager.request_blocking(\n\u001b[0m\u001b[1;32m     76\u001b[0m             \u001b[0mmethod_str\u001b[0m\u001b[0;34m,\u001b[0m \u001b[0mparams\u001b[0m\u001b[0;34m,\u001b[0m \u001b[0merror_formatters\u001b[0m\u001b[0;34m,\u001b[0m \u001b[0mnull_result_formatters\u001b[0m\u001b[0;34m\u001b[0m\u001b[0;34m\u001b[0m\u001b[0m\n\u001b[1;32m     77\u001b[0m         )\n",
            "\u001b[0;32m/usr/local/lib/python3.10/dist-packages/web3/manager.py\u001b[0m in \u001b[0;36mrequest_blocking\u001b[0;34m(self, method, params, error_formatters, null_result_formatters)\u001b[0m\n\u001b[1;32m    328\u001b[0m         \"\"\"\n\u001b[1;32m    329\u001b[0m         \u001b[0mresponse\u001b[0m \u001b[0;34m=\u001b[0m \u001b[0mself\u001b[0m\u001b[0;34m.\u001b[0m\u001b[0m_make_request\u001b[0m\u001b[0;34m(\u001b[0m\u001b[0mmethod\u001b[0m\u001b[0;34m,\u001b[0m \u001b[0mparams\u001b[0m\u001b[0;34m)\u001b[0m\u001b[0;34m\u001b[0m\u001b[0;34m\u001b[0m\u001b[0m\n\u001b[0;32m--> 330\u001b[0;31m         return self.formatted_response(\n\u001b[0m\u001b[1;32m    331\u001b[0m             \u001b[0mresponse\u001b[0m\u001b[0;34m,\u001b[0m \u001b[0mparams\u001b[0m\u001b[0;34m,\u001b[0m \u001b[0merror_formatters\u001b[0m\u001b[0;34m,\u001b[0m \u001b[0mnull_result_formatters\u001b[0m\u001b[0;34m\u001b[0m\u001b[0;34m\u001b[0m\u001b[0m\n\u001b[1;32m    332\u001b[0m         )\n",
            "\u001b[0;32m/usr/local/lib/python3.10/dist-packages/web3/manager.py\u001b[0m in \u001b[0;36mformatted_response\u001b[0;34m(response, params, error_formatters, null_result_formatters)\u001b[0m\n\u001b[1;32m    291\u001b[0m             \u001b[0mapply_error_formatters\u001b[0m\u001b[0;34m(\u001b[0m\u001b[0merror_formatters\u001b[0m\u001b[0;34m,\u001b[0m \u001b[0mresponse\u001b[0m\u001b[0;34m)\u001b[0m\u001b[0;34m\u001b[0m\u001b[0;34m\u001b[0m\u001b[0m\n\u001b[1;32m    292\u001b[0m \u001b[0;34m\u001b[0m\u001b[0m\n\u001b[0;32m--> 293\u001b[0;31m             \u001b[0;32mraise\u001b[0m \u001b[0mValueError\u001b[0m\u001b[0;34m(\u001b[0m\u001b[0merror\u001b[0m\u001b[0;34m)\u001b[0m\u001b[0;34m\u001b[0m\u001b[0;34m\u001b[0m\u001b[0m\n\u001b[0m\u001b[1;32m    294\u001b[0m \u001b[0;34m\u001b[0m\u001b[0m\n\u001b[1;32m    295\u001b[0m         \u001b[0;31m# Format and validate results\u001b[0m\u001b[0;34m\u001b[0m\u001b[0;34m\u001b[0m\u001b[0m\n",
            "\u001b[0;31mValueError\u001b[0m: {'code': -32000, 'message': 'intrinsic gas too low: gas 5, minimum needed 21000'}"
          ]
        }
      ]
    },
    {
      "cell_type": "code",
      "source": [
        "nonce = web3.eth.get_transaction_count(account.address)\n",
        "print(f\"Nonce: {nonce}\")\n"
      ],
      "metadata": {
        "colab": {
          "base_uri": "https://localhost:8080/"
        },
        "id": "A_rzjX3H_ZUI",
        "outputId": "5cb8c5a5-7610-4541-ff19-e56c51b336f5"
      },
      "execution_count": null,
      "outputs": [
        {
          "output_type": "stream",
          "name": "stdout",
          "text": [
            "Nonce: 6\n"
          ]
        }
      ]
    },
    {
      "cell_type": "code",
      "source": [
        "from web3 import Web3\n",
        "import json\n",
        "\n",
        "# Inisialisasi Web3\n",
        "web3 = Web3(Web3.HTTPProvider('https://base-mainnet.core.chainstack.com/96db4e6b368f402cf1eed404e332ed8c'))\n",
        "\n",
        "# Informasi akun\n",
        "private_key = '0xdc9e7b5ab59e423954a9f4b851fad1631b36a93d2c40a922bf6128ff0adbafb9'  # Ganti dengan private key Anda\n",
        "account = web3.eth.account.from_key(private_key)\n",
        "print(f\"Connected to wallet: {account.address}\")\n"
      ],
      "metadata": {
        "colab": {
          "base_uri": "https://localhost:8080/"
        },
        "id": "Qk-3KmAJAV5t",
        "outputId": "3394bc76-ac45-4d0d-c62b-dff825603b8d"
      },
      "execution_count": null,
      "outputs": [
        {
          "output_type": "stream",
          "name": "stdout",
          "text": [
            "Connected to wallet: 0xB1Eb2e73437377158d5D56e0F32160a3b96f9Ef2\n"
          ]
        }
      ]
    },
    {
      "cell_type": "code",
      "source": [
        "balance = web3.eth.get_balance(account.address)\n",
        "print(f\"Balance: {web3.from_wei(balance, 'ether')} ETH\")"
      ],
      "metadata": {
        "colab": {
          "base_uri": "https://localhost:8080/"
        },
        "id": "hJaTqaUUf2v8",
        "outputId": "9dc8fdd8-e567-42fe-870a-2518eaa7bc40"
      },
      "execution_count": null,
      "outputs": [
        {
          "output_type": "stream",
          "name": "stdout",
          "text": [
            "Balance: 0.00012521903762622 ETH\n"
          ]
        }
      ]
    },
    {
      "cell_type": "code",
      "source": [
        "uniswap_router_address = Web3.to_checksum_address('0x3fC91A3afd70395Cd496C647d5a6CC9D4B2b7FAD')  # Ganti dengan alamat router Uniswap\n",
        "with open(r'/content/token_abi.json') as f:\n",
        "    uniswap_router_abi = json.load(f)\n",
        "\n",
        "uniswap = web3.eth.contract(address=uniswap_router_address, abi=uniswap_router_abi)\n"
      ],
      "metadata": {
        "id": "FZNrbZ7qFH-_"
      },
      "execution_count": null,
      "outputs": []
    },
    {
      "cell_type": "code",
      "source": [
        "from web3 import Web3\n",
        "import json\n",
        "\n",
        "# Inisialisasi Web3\n",
        "web3 = Web3(Web3.HTTPProvider('https://base-mainnet.core.chainstack.com/96db4e6b368f402cf1eed404e332ed8c'))  # Ganti dengan provider yang sesuai\n",
        "\n",
        "# Informasi akun\n",
        "private_key = '0xdc9e7b5ab59e423954a9f4b851fad1631b36a93d2c40a922bf6128ff0adbafb9'  # Ganti dengan private key Anda\n",
        "account = web3.eth.account.from_key(private_key)\n",
        "\n",
        "# Alamat kontrak token\n",
        "from_token_address = Web3.to_checksum_address('0xcC0733b7Ba63b446624002441c4816D7FEc8F4E0')  # Simpsons Token\n",
        "to_token_address = Web3.to_checksum_address('0x4200000000000000000000000000000000000006')  # WETH\n",
        "\n",
        "# Alamat router Uniswap\n",
        "uniswap_router_address = Web3.to_checksum_address('0x7a250d5630b4cf539739df2c5dacab63606c6985')  # Uniswap v2 Router address (ganti jika berbeda untuk jaringan Base)\n",
        "\n",
        "# ABI dari router Uniswap (simplified version)\n",
        "uniswap_router_abi = uniswap_router_abi  # Ganti dengan ABI lengkap\n",
        "\n",
        "# Membuat instance kontrak router Uniswap\n",
        "uniswap = web3.eth.contract(address=uniswap_router_address, abi=uniswap_router_abi)\n",
        "\n",
        "# Alamat kontrak Simpsons Token\n",
        "simpsons_token_address = Web3.to_checksum_address('0xcC0733b7Ba63b446624002441c4816D7FEc8F4E0')\n",
        "\n",
        "# ABI dari token ERC-20 (simplified version)\n",
        "erc20_abi = uniswap_router_abi  # Ganti dengan ABI lengkap\n",
        "\n",
        "# Membuat instance kontrak token Simpsons\n",
        "simpsons_token = web3.eth.contract(address=simpsons_token_address, abi=erc20_abi)\n",
        "\n",
        "# Jumlah token yang akan di-approve dan di-swap\n",
        "amount_to_approve_and_swap = web3.to_wei(1, 'ether')  # Sesuaikan dengan jumlah yang benar\n",
        "\n",
        "# Approve token transfer\n",
        "approve_tx = simpsons_token.functions.approve(uniswap_router_address, amount_to_approve_and_swap).build_transaction({\n",
        "    'from': account.address,\n",
        "    'nonce': web3.eth.get_transaction_count(account.address),\n",
        "    'gas': 50000,  # Gas limit untuk transaksi approve\n",
        "    'gasPrice': web3.to_wei('50', 'gwei'),\n",
        "    'chainId': 8453  # Chain ID untuk jaringan Base\n",
        "})\n",
        "\n",
        "# Menandatangani transaksi approve\n",
        "signed_approve_tx = web3.eth.account.sign_transaction(approve_tx, private_key)\n",
        "\n",
        "# Mengirim transaksi approve\n",
        "approve_txn_hash = web3.eth.send_raw_transaction(signed_approve_tx.rawTransaction)\n",
        "\n",
        "# Menunggu transaksi approve untuk dikonfirmasi\n",
        "web3.eth.wait_for_transaction_receipt(approve_txn_hash)\n",
        "\n",
        "print(f\"Approve transaction sent with hash: https://basescan.org/tx/{approve_txn_hash.hex()}\")\n",
        "\n",
        "# Swap token Simpsons ke WETH\n",
        "amount_out_min = 0  # Minimum jumlah token tujuan yang diharapkan (slippage tolerance)\n",
        "path = [from_token_address, to_token_address]\n",
        "deadline = web3.eth.get_block('latest')['timestamp'] + 600  # Waktu batas transaksi dalam detik (misal 10 menit dari sekarang)\n",
        "\n",
        "nonce = web3.eth.get_transaction_count(account.address)\n",
        "\n",
        "# Membuat transaksi untuk swap\n",
        "swap_tx = uniswap.functions.swapExactTokensForTokens(\n",
        "    amount_to_approve_and_swap,\n",
        "    amount_out_min,\n",
        "    path,\n",
        "    account.address,\n",
        "    deadline\n",
        ").build_transaction({\n",
        "    'from': account.address,\n",
        "    'nonce': nonce,\n",
        "    'gas': 200000,  # Anda mungkin perlu menyesuaikan gas limit\n",
        "    'gasPrice': web3.to_wei('50', 'gwei'),\n",
        "    'chainId': 8453  # Chain ID untuk jaringan Base\n",
        "})\n",
        "\n",
        "# Menandatangani transaksi swap\n",
        "signed_swap_tx = web3.eth.account.sign_transaction(swap_tx, private_key)\n",
        "\n",
        "# Mengirim transaksi swap\n",
        "swap_txn_hash = web3.eth.send_raw_transaction(signed_swap_tx.rawTransaction)\n",
        "\n",
        "# Mendapatkan hash transaksi swap\n",
        "print(f\"Swap transaction sent with hash: https://basescan.org/tx/{swap_txn_hash.hex()}\")\n"
      ],
      "metadata": {
        "colab": {
          "base_uri": "https://localhost:8080/",
          "height": 400
        },
        "id": "-d54wiHibJNz",
        "outputId": "b44011c2-b3ad-4cb2-df70-473b808dfe0b"
      },
      "execution_count": null,
      "outputs": [
        {
          "output_type": "error",
          "ename": "ValueError",
          "evalue": "{'code': -32000, 'message': 'insufficient funds for gas * price + value: balance 125219037626220, tx cost 2500005975772053, overshot 2374786938145833'}",
          "traceback": [
            "\u001b[0;31m---------------------------------------------------------------------------\u001b[0m",
            "\u001b[0;31mValueError\u001b[0m                                Traceback (most recent call last)",
            "\u001b[0;32m<ipython-input-13-047b56e3b402>\u001b[0m in \u001b[0;36m<cell line: 49>\u001b[0;34m()\u001b[0m\n\u001b[1;32m     47\u001b[0m \u001b[0;34m\u001b[0m\u001b[0m\n\u001b[1;32m     48\u001b[0m \u001b[0;31m# Mengirim transaksi approve\u001b[0m\u001b[0;34m\u001b[0m\u001b[0;34m\u001b[0m\u001b[0m\n\u001b[0;32m---> 49\u001b[0;31m \u001b[0mapprove_txn_hash\u001b[0m \u001b[0;34m=\u001b[0m \u001b[0mweb3\u001b[0m\u001b[0;34m.\u001b[0m\u001b[0meth\u001b[0m\u001b[0;34m.\u001b[0m\u001b[0msend_raw_transaction\u001b[0m\u001b[0;34m(\u001b[0m\u001b[0msigned_approve_tx\u001b[0m\u001b[0;34m.\u001b[0m\u001b[0mrawTransaction\u001b[0m\u001b[0;34m)\u001b[0m\u001b[0;34m\u001b[0m\u001b[0;34m\u001b[0m\u001b[0m\n\u001b[0m\u001b[1;32m     50\u001b[0m \u001b[0;34m\u001b[0m\u001b[0m\n\u001b[1;32m     51\u001b[0m \u001b[0;31m# Menunggu transaksi approve untuk dikonfirmasi\u001b[0m\u001b[0;34m\u001b[0m\u001b[0;34m\u001b[0m\u001b[0m\n",
            "\u001b[0;32m/usr/local/lib/python3.10/dist-packages/web3/eth/eth.py\u001b[0m in \u001b[0;36msend_raw_transaction\u001b[0;34m(self, transaction)\u001b[0m\n\u001b[1;32m    394\u001b[0m \u001b[0;34m\u001b[0m\u001b[0m\n\u001b[1;32m    395\u001b[0m     \u001b[0;32mdef\u001b[0m \u001b[0msend_raw_transaction\u001b[0m\u001b[0;34m(\u001b[0m\u001b[0mself\u001b[0m\u001b[0;34m,\u001b[0m \u001b[0mtransaction\u001b[0m\u001b[0;34m:\u001b[0m \u001b[0mUnion\u001b[0m\u001b[0;34m[\u001b[0m\u001b[0mHexStr\u001b[0m\u001b[0;34m,\u001b[0m \u001b[0mbytes\u001b[0m\u001b[0;34m]\u001b[0m\u001b[0;34m)\u001b[0m \u001b[0;34m->\u001b[0m \u001b[0mHexBytes\u001b[0m\u001b[0;34m:\u001b[0m\u001b[0;34m\u001b[0m\u001b[0;34m\u001b[0m\u001b[0m\n\u001b[0;32m--> 396\u001b[0;31m         \u001b[0;32mreturn\u001b[0m \u001b[0mself\u001b[0m\u001b[0;34m.\u001b[0m\u001b[0m_send_raw_transaction\u001b[0m\u001b[0;34m(\u001b[0m\u001b[0mtransaction\u001b[0m\u001b[0;34m)\u001b[0m\u001b[0;34m\u001b[0m\u001b[0;34m\u001b[0m\u001b[0m\n\u001b[0m\u001b[1;32m    397\u001b[0m \u001b[0;34m\u001b[0m\u001b[0m\n\u001b[1;32m    398\u001b[0m     \u001b[0;31m# eth_getBlockByHash\u001b[0m\u001b[0;34m\u001b[0m\u001b[0;34m\u001b[0m\u001b[0m\n",
            "\u001b[0;32m/usr/local/lib/python3.10/dist-packages/web3/module.py\u001b[0m in \u001b[0;36mcaller\u001b[0;34m(*args, **kwargs)\u001b[0m\n\u001b[1;32m     73\u001b[0m             \u001b[0mnull_result_formatters\u001b[0m\u001b[0;34m,\u001b[0m\u001b[0;34m\u001b[0m\u001b[0;34m\u001b[0m\u001b[0m\n\u001b[1;32m     74\u001b[0m         ) = response_formatters\n\u001b[0;32m---> 75\u001b[0;31m         result = w3.manager.request_blocking(\n\u001b[0m\u001b[1;32m     76\u001b[0m             \u001b[0mmethod_str\u001b[0m\u001b[0;34m,\u001b[0m \u001b[0mparams\u001b[0m\u001b[0;34m,\u001b[0m \u001b[0merror_formatters\u001b[0m\u001b[0;34m,\u001b[0m \u001b[0mnull_result_formatters\u001b[0m\u001b[0;34m\u001b[0m\u001b[0;34m\u001b[0m\u001b[0m\n\u001b[1;32m     77\u001b[0m         )\n",
            "\u001b[0;32m/usr/local/lib/python3.10/dist-packages/web3/manager.py\u001b[0m in \u001b[0;36mrequest_blocking\u001b[0;34m(self, method, params, error_formatters, null_result_formatters)\u001b[0m\n\u001b[1;32m    328\u001b[0m         \"\"\"\n\u001b[1;32m    329\u001b[0m         \u001b[0mresponse\u001b[0m \u001b[0;34m=\u001b[0m \u001b[0mself\u001b[0m\u001b[0;34m.\u001b[0m\u001b[0m_make_request\u001b[0m\u001b[0;34m(\u001b[0m\u001b[0mmethod\u001b[0m\u001b[0;34m,\u001b[0m \u001b[0mparams\u001b[0m\u001b[0;34m)\u001b[0m\u001b[0;34m\u001b[0m\u001b[0;34m\u001b[0m\u001b[0m\n\u001b[0;32m--> 330\u001b[0;31m         return self.formatted_response(\n\u001b[0m\u001b[1;32m    331\u001b[0m             \u001b[0mresponse\u001b[0m\u001b[0;34m,\u001b[0m \u001b[0mparams\u001b[0m\u001b[0;34m,\u001b[0m \u001b[0merror_formatters\u001b[0m\u001b[0;34m,\u001b[0m \u001b[0mnull_result_formatters\u001b[0m\u001b[0;34m\u001b[0m\u001b[0;34m\u001b[0m\u001b[0m\n\u001b[1;32m    332\u001b[0m         )\n",
            "\u001b[0;32m/usr/local/lib/python3.10/dist-packages/web3/manager.py\u001b[0m in \u001b[0;36mformatted_response\u001b[0;34m(response, params, error_formatters, null_result_formatters)\u001b[0m\n\u001b[1;32m    291\u001b[0m             \u001b[0mapply_error_formatters\u001b[0m\u001b[0;34m(\u001b[0m\u001b[0merror_formatters\u001b[0m\u001b[0;34m,\u001b[0m \u001b[0mresponse\u001b[0m\u001b[0;34m)\u001b[0m\u001b[0;34m\u001b[0m\u001b[0;34m\u001b[0m\u001b[0m\n\u001b[1;32m    292\u001b[0m \u001b[0;34m\u001b[0m\u001b[0m\n\u001b[0;32m--> 293\u001b[0;31m             \u001b[0;32mraise\u001b[0m \u001b[0mValueError\u001b[0m\u001b[0;34m(\u001b[0m\u001b[0merror\u001b[0m\u001b[0;34m)\u001b[0m\u001b[0;34m\u001b[0m\u001b[0;34m\u001b[0m\u001b[0m\n\u001b[0m\u001b[1;32m    294\u001b[0m \u001b[0;34m\u001b[0m\u001b[0m\n\u001b[1;32m    295\u001b[0m         \u001b[0;31m# Format and validate results\u001b[0m\u001b[0;34m\u001b[0m\u001b[0;34m\u001b[0m\u001b[0m\n",
            "\u001b[0;31mValueError\u001b[0m: {'code': -32000, 'message': 'insufficient funds for gas * price + value: balance 125219037626220, tx cost 2500005975772053, overshot 2374786938145833'}"
          ]
        }
      ]
    },
    {
      "cell_type": "code",
      "source": [
        "from_token_address = Web3.to_checksum_address('0x065Fb34B62701C4f589533DA2B6b9Fb3fe42C562')  # Ganti dengan alamat token yang akan di-swap\n",
        "to_token_address = Web3.to_checksum_address('0xcC0733b7Ba63b446624002441c4816D7FEc8F4E0')  # Ganti dengan alamat token tujuan\n",
        "amount_in = web3.to_wei(1, 'ether')  # Jumlah token yang akan di-swap\n",
        "amount_out_min = 0  # Minimum jumlah token tujuan yang diharapkan (slippage tolerance)\n",
        "path = [from_token_address, to_token_address]\n",
        "deadline = web3.eth.get_block('latest')['timestamp'] + 600  # Waktu batas transaksi dalam detik (misal 10 menit dari sekarang)\n",
        "\n",
        "nonce = web3.eth.get_transaction_count(account.address)\n",
        "transaction = uniswap.functions.swapExactTokensForTokens(\n",
        "    amount_in,\n",
        "    amount_out_min,\n",
        "    path,\n",
        "    account.address,\n",
        "    deadline\n",
        ").build_transaction({\n",
        "    'from': account.address,\n",
        "    'nonce': nonce,\n",
        "    'gas': 200000,  # Anda mungkin perlu menyesuaikan gas limit\n",
        "    'gasPrice': web3.to_wei('50', 'gwei'),\n",
        "    'chainId': 8453\n",
        "})\n"
      ],
      "metadata": {
        "colab": {
          "base_uri": "https://localhost:8080/",
          "height": 358
        },
        "id": "uqdX_-EGGdkr",
        "outputId": "6741bc59-dbb6-418e-e186-816f59e747f9"
      },
      "execution_count": null,
      "outputs": [
        {
          "output_type": "error",
          "ename": "ABIFunctionNotFound",
          "evalue": "(\"The function 'swapExactTokensForTokens' was not found in this contract's abi.\", ' Are you sure you provided the correct contract abi?')",
          "traceback": [
            "\u001b[0;31m---------------------------------------------------------------------------\u001b[0m",
            "\u001b[0;31mABIFunctionNotFound\u001b[0m                       Traceback (most recent call last)",
            "\u001b[0;32m<ipython-input-6-983fed3b1f54>\u001b[0m in \u001b[0;36m<cell line: 9>\u001b[0;34m()\u001b[0m\n\u001b[1;32m      7\u001b[0m \u001b[0;34m\u001b[0m\u001b[0m\n\u001b[1;32m      8\u001b[0m \u001b[0mnonce\u001b[0m \u001b[0;34m=\u001b[0m \u001b[0mweb3\u001b[0m\u001b[0;34m.\u001b[0m\u001b[0meth\u001b[0m\u001b[0;34m.\u001b[0m\u001b[0mget_transaction_count\u001b[0m\u001b[0;34m(\u001b[0m\u001b[0maccount\u001b[0m\u001b[0;34m.\u001b[0m\u001b[0maddress\u001b[0m\u001b[0;34m)\u001b[0m\u001b[0;34m\u001b[0m\u001b[0;34m\u001b[0m\u001b[0m\n\u001b[0;32m----> 9\u001b[0;31m transaction = uniswap.functions.swapExactTokensForTokens(\n\u001b[0m\u001b[1;32m     10\u001b[0m     \u001b[0mamount_in\u001b[0m\u001b[0;34m,\u001b[0m\u001b[0;34m\u001b[0m\u001b[0;34m\u001b[0m\u001b[0m\n\u001b[1;32m     11\u001b[0m     \u001b[0mamount_out_min\u001b[0m\u001b[0;34m,\u001b[0m\u001b[0;34m\u001b[0m\u001b[0;34m\u001b[0m\u001b[0m\n",
            "\u001b[0;32m/usr/local/lib/python3.10/dist-packages/web3/contract/contract.py\u001b[0m in \u001b[0;36m__getattr__\u001b[0;34m(self, function_name)\u001b[0m\n\u001b[1;32m    419\u001b[0m             )\n\u001b[1;32m    420\u001b[0m         \u001b[0;32melif\u001b[0m \u001b[0mfunction_name\u001b[0m \u001b[0;32mnot\u001b[0m \u001b[0;32min\u001b[0m \u001b[0mself\u001b[0m\u001b[0;34m.\u001b[0m\u001b[0m__dict__\u001b[0m\u001b[0;34m[\u001b[0m\u001b[0;34m\"_functions\"\u001b[0m\u001b[0;34m]\u001b[0m\u001b[0;34m:\u001b[0m\u001b[0;34m\u001b[0m\u001b[0;34m\u001b[0m\u001b[0m\n\u001b[0;32m--> 421\u001b[0;31m             raise ABIFunctionNotFound(\n\u001b[0m\u001b[1;32m    422\u001b[0m                 \u001b[0;34mf\"The function '{function_name}' was not found in this contract's abi.\"\u001b[0m\u001b[0;34m,\u001b[0m\u001b[0;34m\u001b[0m\u001b[0;34m\u001b[0m\u001b[0m\n\u001b[1;32m    423\u001b[0m                 \u001b[0;34m\" Are you sure you provided the correct contract abi?\"\u001b[0m\u001b[0;34m,\u001b[0m\u001b[0;34m\u001b[0m\u001b[0;34m\u001b[0m\u001b[0m\n",
            "\u001b[0;31mABIFunctionNotFound\u001b[0m: (\"The function 'swapExactTokensForTokens' was not found in this contract's abi.\", ' Are you sure you provided the correct contract abi?')"
          ]
        }
      ]
    }
  ]
}