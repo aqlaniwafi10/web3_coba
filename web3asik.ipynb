{
  "cells": [
    {
      "cell_type": "code",
      "execution_count": null,
      "metadata": {
        "colab": {
          "base_uri": "https://localhost:8080/"
        },
        "id": "REGbl6PiklCR",
        "outputId": "90a01172-00f6-4e32-cb8f-c55968ecc9e2"
      },
      "outputs": [
        {
          "ename": "",
          "evalue": "",
          "output_type": "error",
          "traceback": [
            "\u001b[1;31mRunning cells with 'myenv (Python 3.12.4)' requires the ipykernel package.\n",
            "\u001b[1;31mRun the following command to install 'ipykernel' into the Python environment. \n",
            "\u001b[1;31mCommand: 'c:/Users/aqlan/OneDrive/Documents/GitHub/web3_coba/myenv/Scripts/python.exe -m pip install ipykernel -U --force-reinstall'"
          ]
        }
      ],
      "source": [
        "pip install web3"
      ]
    },
    {
      "cell_type": "code",
      "execution_count": null,
      "metadata": {
        "id": "VrGZEqYMk1jj"
      },
      "outputs": [],
      "source": [
        "!pip install solana"
      ]
    },
    {
      "cell_type": "code",
      "execution_count": null,
      "metadata": {
        "colab": {
          "base_uri": "https://localhost:8080/"
        },
        "id": "DQgaotHVkcpL",
        "outputId": "d3b593c8-9cad-48bc-ce7a-2c9def61b011"
      },
      "outputs": [
        {
          "name": "stdout",
          "output_type": "stream",
          "text": [
            "Wallet 1 - Address: 0x527940505Be0067C7Dd2F50A01E54B412FE940c2, Private Key: 0xb2996bc5347b150da6e915d6ed329d83453653efd6a404128428d3870c5c24c7\n",
            "Wallet 2 - Address: 0xA16Bf54324Bc64694a930C7287E5430bb13a0720, Private Key: 0x34ee66934df99124a46ae31e4ffd6a143738b62dd8904dd4ed2323e2ed00ca2d\n"
          ]
        }
      ],
      "source": [
        "from web3 import Web3\n",
        "from eth_account import Account\n",
        "\n",
        "def create_base_wallets(num_wallets):\n",
        "    wallets = []\n",
        "    for _ in range(num_wallets):\n",
        "        account = Account.create()\n",
        "        wallets.append({\n",
        "            'address': account.address,\n",
        "            'private_key': account.key.hex()\n",
        "        })\n",
        "    return wallets\n",
        "\n",
        "# Example usage\n",
        "num_wallets = 2\n",
        "base_wallets = create_base_wallets(num_wallets)\n",
        "for i, wallet in enumerate(base_wallets):\n",
        "    print(f\"Wallet {i+1} - Address: {wallet['address']}, Private Key: {wallet['private_key']}\")"
      ]
    },
    {
      "cell_type": "code",
      "execution_count": null,
      "metadata": {
        "id": "xksccbRZ2Urz"
      },
      "outputs": [],
      "source": [
        "# base_wallets[\"name\"] = ['wallet1', 'wallet2']\n",
        "# base_wallets\n",
        "import pandas as pd\n",
        "a=pd.DataFrame(base_wallets)\n",
        "a"
      ]
    },
    {
      "cell_type": "code",
      "execution_count": null,
      "metadata": {
        "id": "0Wtf6Bxz3R0L"
      },
      "outputs": [],
      "source": []
    },
    {
      "cell_type": "code",
      "execution_count": null,
      "metadata": {
        "colab": {
          "base_uri": "https://localhost:8080/"
        },
        "id": "UpVvp-xo88Ag",
        "outputId": "316dba3b-c0cf-418b-d225-70ebe303da48"
      },
      "outputs": [
        {
          "name": "stdout",
          "output_type": "stream",
          "text": [
            "Connected to Base network\n"
          ]
        }
      ],
      "source": [
        "from web3 import Web3\n",
        "\n",
        "# Menghubungkan ke jaringan Base\n",
        "web3 = Web3(Web3.HTTPProvider('https://base-mainnet.core.chainstack.com/96db4e6b368f402cf1eed404e332ed8c'))\n",
        "\n",
        "# Cek koneksi\n",
        "if web3.is_connected():\n",
        "    print(\"Connected to Base network\")\n",
        "else:\n",
        "    print(\"Failed to connect to Base network\")\n"
      ]
    },
    {
      "cell_type": "code",
      "execution_count": null,
      "metadata": {
        "colab": {
          "base_uri": "https://localhost:8080/"
        },
        "id": "nFcU2JFU_nTL",
        "outputId": "693e6516-e46f-41e3-ecbb-8d0afd905026"
      },
      "outputs": [
        {
          "name": "stdout",
          "output_type": "stream",
          "text": [
            "Connected to wallet: 0xB1Eb2e73437377158d5D56e0F32160a3b96f9Ef2\n"
          ]
        }
      ],
      "source": [
        "# Ganti dengan private key Anda\n",
        "private_key = \"0xdc9e7b5ab59e423954a9f4b851fad1631b36a93d2c40a922bf6128ff0adbafb9\"\n",
        "account = web3.eth.account.from_key(private_key)\n",
        "print(f\"Connected to wallet: {account.address}\")\n"
      ]
    },
    {
      "cell_type": "code",
      "execution_count": null,
      "metadata": {
        "colab": {
          "base_uri": "https://localhost:8080/"
        },
        "id": "zac0BxeL_uuZ",
        "outputId": "4c3c7ee9-5de7-4f66-be89-794a29a3b984"
      },
      "outputs": [
        {
          "name": "stdout",
          "output_type": "stream",
          "text": [
            "Balance: 0.00012521903762622 ETH\n"
          ]
        }
      ],
      "source": [
        "balance = web3.eth.get_balance(account.address)\n",
        "print(f\"Balance: {web3.from_wei(balance, 'ether')} ETH\")\n"
      ]
    },
    {
      "cell_type": "code",
      "execution_count": null,
      "metadata": {
        "colab": {
          "base_uri": "https://localhost:8080/",
          "height": 365
        },
        "id": "ybn0nkNvAMZA",
        "outputId": "5ae84a67-7857-4992-e252-4e93eeb773c6"
      },
      "outputs": [
        {
          "ename": "ValueError",
          "evalue": "{'code': -32000, 'message': 'intrinsic gas too low: gas 5, minimum needed 21000'}",
          "output_type": "error",
          "traceback": [
            "\u001b[0;31m---------------------------------------------------------------------------\u001b[0m",
            "\u001b[0;31mValueError\u001b[0m                                Traceback (most recent call last)",
            "\u001b[0;32m<ipython-input-7-2f4d6d7449bb>\u001b[0m in \u001b[0;36m<cell line: 19>\u001b[0;34m()\u001b[0m\n\u001b[1;32m     17\u001b[0m \u001b[0;34m\u001b[0m\u001b[0m\n\u001b[1;32m     18\u001b[0m \u001b[0;31m# Mengirim transaksi\u001b[0m\u001b[0;34m\u001b[0m\u001b[0;34m\u001b[0m\u001b[0m\n\u001b[0;32m---> 19\u001b[0;31m \u001b[0mtxn_hash\u001b[0m \u001b[0;34m=\u001b[0m \u001b[0mweb3\u001b[0m\u001b[0;34m.\u001b[0m\u001b[0meth\u001b[0m\u001b[0;34m.\u001b[0m\u001b[0msend_raw_transaction\u001b[0m\u001b[0;34m(\u001b[0m\u001b[0msigned_txn\u001b[0m\u001b[0;34m.\u001b[0m\u001b[0mrawTransaction\u001b[0m\u001b[0;34m)\u001b[0m\u001b[0;34m\u001b[0m\u001b[0;34m\u001b[0m\u001b[0m\n\u001b[0m\u001b[1;32m     20\u001b[0m \u001b[0;34m\u001b[0m\u001b[0m\n\u001b[1;32m     21\u001b[0m \u001b[0;31m# Mendapatkan hash transaksi\u001b[0m\u001b[0;34m\u001b[0m\u001b[0;34m\u001b[0m\u001b[0m\n",
            "\u001b[0;32m/usr/local/lib/python3.10/dist-packages/web3/eth/eth.py\u001b[0m in \u001b[0;36msend_raw_transaction\u001b[0;34m(self, transaction)\u001b[0m\n\u001b[1;32m    394\u001b[0m \u001b[0;34m\u001b[0m\u001b[0m\n\u001b[1;32m    395\u001b[0m     \u001b[0;32mdef\u001b[0m \u001b[0msend_raw_transaction\u001b[0m\u001b[0;34m(\u001b[0m\u001b[0mself\u001b[0m\u001b[0;34m,\u001b[0m \u001b[0mtransaction\u001b[0m\u001b[0;34m:\u001b[0m \u001b[0mUnion\u001b[0m\u001b[0;34m[\u001b[0m\u001b[0mHexStr\u001b[0m\u001b[0;34m,\u001b[0m \u001b[0mbytes\u001b[0m\u001b[0;34m]\u001b[0m\u001b[0;34m)\u001b[0m \u001b[0;34m->\u001b[0m \u001b[0mHexBytes\u001b[0m\u001b[0;34m:\u001b[0m\u001b[0;34m\u001b[0m\u001b[0;34m\u001b[0m\u001b[0m\n\u001b[0;32m--> 396\u001b[0;31m         \u001b[0;32mreturn\u001b[0m \u001b[0mself\u001b[0m\u001b[0;34m.\u001b[0m\u001b[0m_send_raw_transaction\u001b[0m\u001b[0;34m(\u001b[0m\u001b[0mtransaction\u001b[0m\u001b[0;34m)\u001b[0m\u001b[0;34m\u001b[0m\u001b[0;34m\u001b[0m\u001b[0m\n\u001b[0m\u001b[1;32m    397\u001b[0m \u001b[0;34m\u001b[0m\u001b[0m\n\u001b[1;32m    398\u001b[0m     \u001b[0;31m# eth_getBlockByHash\u001b[0m\u001b[0;34m\u001b[0m\u001b[0;34m\u001b[0m\u001b[0m\n",
            "\u001b[0;32m/usr/local/lib/python3.10/dist-packages/web3/module.py\u001b[0m in \u001b[0;36mcaller\u001b[0;34m(*args, **kwargs)\u001b[0m\n\u001b[1;32m     73\u001b[0m             \u001b[0mnull_result_formatters\u001b[0m\u001b[0;34m,\u001b[0m\u001b[0;34m\u001b[0m\u001b[0;34m\u001b[0m\u001b[0m\n\u001b[1;32m     74\u001b[0m         ) = response_formatters\n\u001b[0;32m---> 75\u001b[0;31m         result = w3.manager.request_blocking(\n\u001b[0m\u001b[1;32m     76\u001b[0m             \u001b[0mmethod_str\u001b[0m\u001b[0;34m,\u001b[0m \u001b[0mparams\u001b[0m\u001b[0;34m,\u001b[0m \u001b[0merror_formatters\u001b[0m\u001b[0;34m,\u001b[0m \u001b[0mnull_result_formatters\u001b[0m\u001b[0;34m\u001b[0m\u001b[0;34m\u001b[0m\u001b[0m\n\u001b[1;32m     77\u001b[0m         )\n",
            "\u001b[0;32m/usr/local/lib/python3.10/dist-packages/web3/manager.py\u001b[0m in \u001b[0;36mrequest_blocking\u001b[0;34m(self, method, params, error_formatters, null_result_formatters)\u001b[0m\n\u001b[1;32m    328\u001b[0m         \"\"\"\n\u001b[1;32m    329\u001b[0m         \u001b[0mresponse\u001b[0m \u001b[0;34m=\u001b[0m \u001b[0mself\u001b[0m\u001b[0;34m.\u001b[0m\u001b[0m_make_request\u001b[0m\u001b[0;34m(\u001b[0m\u001b[0mmethod\u001b[0m\u001b[0;34m,\u001b[0m \u001b[0mparams\u001b[0m\u001b[0;34m)\u001b[0m\u001b[0;34m\u001b[0m\u001b[0;34m\u001b[0m\u001b[0m\n\u001b[0;32m--> 330\u001b[0;31m         return self.formatted_response(\n\u001b[0m\u001b[1;32m    331\u001b[0m             \u001b[0mresponse\u001b[0m\u001b[0;34m,\u001b[0m \u001b[0mparams\u001b[0m\u001b[0;34m,\u001b[0m \u001b[0merror_formatters\u001b[0m\u001b[0;34m,\u001b[0m \u001b[0mnull_result_formatters\u001b[0m\u001b[0;34m\u001b[0m\u001b[0;34m\u001b[0m\u001b[0m\n\u001b[1;32m    332\u001b[0m         )\n",
            "\u001b[0;32m/usr/local/lib/python3.10/dist-packages/web3/manager.py\u001b[0m in \u001b[0;36mformatted_response\u001b[0;34m(response, params, error_formatters, null_result_formatters)\u001b[0m\n\u001b[1;32m    291\u001b[0m             \u001b[0mapply_error_formatters\u001b[0m\u001b[0;34m(\u001b[0m\u001b[0merror_formatters\u001b[0m\u001b[0;34m,\u001b[0m \u001b[0mresponse\u001b[0m\u001b[0;34m)\u001b[0m\u001b[0;34m\u001b[0m\u001b[0;34m\u001b[0m\u001b[0m\n\u001b[1;32m    292\u001b[0m \u001b[0;34m\u001b[0m\u001b[0m\n\u001b[0;32m--> 293\u001b[0;31m             \u001b[0;32mraise\u001b[0m \u001b[0mValueError\u001b[0m\u001b[0;34m(\u001b[0m\u001b[0merror\u001b[0m\u001b[0;34m)\u001b[0m\u001b[0;34m\u001b[0m\u001b[0;34m\u001b[0m\u001b[0m\n\u001b[0m\u001b[1;32m    294\u001b[0m \u001b[0;34m\u001b[0m\u001b[0m\n\u001b[1;32m    295\u001b[0m         \u001b[0;31m# Format and validate results\u001b[0m\u001b[0;34m\u001b[0m\u001b[0;34m\u001b[0m\u001b[0m\n",
            "\u001b[0;31mValueError\u001b[0m: {'code': -32000, 'message': 'intrinsic gas too low: gas 5, minimum needed 21000'}"
          ]
        }
      ],
      "source": [
        "# Parameter transaksi\n",
        "to_address = \"0x0a9B09E6F88Ace68D4658a00DefFB0776155fcad\"  # Ganti dengan alamat penerima\n",
        "amount = web3.to_wei(0.0001, 'ether')  # Jumlah ETH yang akan dikirim\n",
        "\n",
        "# Membuat transaksi\n",
        "transaction = {\n",
        "    'to': to_address,\n",
        "    'value': amount,\n",
        "    'gas': 5,  # Gas limit standar untuk transaksi ETH\n",
        "    'gasPrice': web3.to_wei('50', 'gwei'),  # Harga gas\n",
        "    'nonce': web3.eth.get_transaction_count(account.address),  # Nonce dari wallet Anda\n",
        "    'chainId': 8453  # ID chain untuk jaringan Base\n",
        "}\n",
        "\n",
        "# Menandatangani transaksi dengan private key\n",
        "signed_txn = web3.eth.account.sign_transaction(transaction, private_key)\n",
        "\n",
        "# Mengirim transaksi\n",
        "txn_hash = web3.eth.send_raw_transaction(signed_txn.rawTransaction)\n",
        "\n",
        "# Mendapatkan hash transaksi\n",
        "print(f\"Transaction sent with hash: https://basescan.org/tx/{txn_hash.hex()}\")\n"
      ]
    },
    {
      "cell_type": "code",
      "execution_count": null,
      "metadata": {
        "colab": {
          "base_uri": "https://localhost:8080/"
        },
        "id": "A_rzjX3H_ZUI",
        "outputId": "5cb8c5a5-7610-4541-ff19-e56c51b336f5"
      },
      "outputs": [
        {
          "name": "stdout",
          "output_type": "stream",
          "text": [
            "Nonce: 6\n"
          ]
        }
      ],
      "source": [
        "nonce = web3.eth.get_transaction_count(account.address)\n",
        "print(f\"Nonce: {nonce}\")\n"
      ]
    },
    {
      "cell_type": "code",
      "execution_count": null,
      "metadata": {
        "colab": {
          "base_uri": "https://localhost:8080/"
        },
        "id": "Qk-3KmAJAV5t",
        "outputId": "3394bc76-ac45-4d0d-c62b-dff825603b8d"
      },
      "outputs": [
        {
          "name": "stdout",
          "output_type": "stream",
          "text": [
            "Connected to wallet: 0xB1Eb2e73437377158d5D56e0F32160a3b96f9Ef2\n"
          ]
        }
      ],
      "source": [
        "from web3 import Web3\n",
        "import json\n",
        "\n",
        "# Inisialisasi Web3\n",
        "web3 = Web3(Web3.HTTPProvider('https://base-mainnet.core.chainstack.com/96db4e6b368f402cf1eed404e332ed8c'))\n",
        "\n",
        "# Informasi akun\n",
        "private_key = '0xdc9e7b5ab59e423954a9f4b851fad1631b36a93d2c40a922bf6128ff0adbafb9'  # Ganti dengan private key Anda\n",
        "account = web3.eth.account.from_key(private_key)\n",
        "print(f\"Connected to wallet: {account.address}\")\n"
      ]
    },
    {
      "cell_type": "code",
      "execution_count": null,
      "metadata": {
        "colab": {
          "base_uri": "https://localhost:8080/"
        },
        "id": "hJaTqaUUf2v8",
        "outputId": "9dc8fdd8-e567-42fe-870a-2518eaa7bc40"
      },
      "outputs": [
        {
          "name": "stdout",
          "output_type": "stream",
          "text": [
            "Balance: 0.00012521903762622 ETH\n"
          ]
        }
      ],
      "source": [
        "balance = web3.eth.get_balance(account.address)\n",
        "print(f\"Balance: {web3.from_wei(balance, 'ether')} ETH\")"
      ]
    },
    {
      "cell_type": "code",
      "execution_count": null,
      "metadata": {
        "id": "FZNrbZ7qFH-_"
      },
      "outputs": [],
      "source": [
        "uniswap_router_address = Web3.to_checksum_address('0x3fC91A3afd70395Cd496C647d5a6CC9D4B2b7FAD')  # Ganti dengan alamat router Uniswap\n",
        "with open(r'/content/token_abi.json') as f:\n",
        "    uniswap_router_abi = json.load(f)\n",
        "\n",
        "uniswap = web3.eth.contract(address=uniswap_router_address, abi=uniswap_router_abi)\n"
      ]
    },
    {
      "cell_type": "code",
      "execution_count": null,
      "metadata": {
        "colab": {
          "base_uri": "https://localhost:8080/",
          "height": 400
        },
        "id": "-d54wiHibJNz",
        "outputId": "b44011c2-b3ad-4cb2-df70-473b808dfe0b"
      },
      "outputs": [
        {
          "ename": "ValueError",
          "evalue": "{'code': -32000, 'message': 'insufficient funds for gas * price + value: balance 125219037626220, tx cost 2500005975772053, overshot 2374786938145833'}",
          "output_type": "error",
          "traceback": [
            "\u001b[0;31m---------------------------------------------------------------------------\u001b[0m",
            "\u001b[0;31mValueError\u001b[0m                                Traceback (most recent call last)",
            "\u001b[0;32m<ipython-input-13-047b56e3b402>\u001b[0m in \u001b[0;36m<cell line: 49>\u001b[0;34m()\u001b[0m\n\u001b[1;32m     47\u001b[0m \u001b[0;34m\u001b[0m\u001b[0m\n\u001b[1;32m     48\u001b[0m \u001b[0;31m# Mengirim transaksi approve\u001b[0m\u001b[0;34m\u001b[0m\u001b[0;34m\u001b[0m\u001b[0m\n\u001b[0;32m---> 49\u001b[0;31m \u001b[0mapprove_txn_hash\u001b[0m \u001b[0;34m=\u001b[0m \u001b[0mweb3\u001b[0m\u001b[0;34m.\u001b[0m\u001b[0meth\u001b[0m\u001b[0;34m.\u001b[0m\u001b[0msend_raw_transaction\u001b[0m\u001b[0;34m(\u001b[0m\u001b[0msigned_approve_tx\u001b[0m\u001b[0;34m.\u001b[0m\u001b[0mrawTransaction\u001b[0m\u001b[0;34m)\u001b[0m\u001b[0;34m\u001b[0m\u001b[0;34m\u001b[0m\u001b[0m\n\u001b[0m\u001b[1;32m     50\u001b[0m \u001b[0;34m\u001b[0m\u001b[0m\n\u001b[1;32m     51\u001b[0m \u001b[0;31m# Menunggu transaksi approve untuk dikonfirmasi\u001b[0m\u001b[0;34m\u001b[0m\u001b[0;34m\u001b[0m\u001b[0m\n",
            "\u001b[0;32m/usr/local/lib/python3.10/dist-packages/web3/eth/eth.py\u001b[0m in \u001b[0;36msend_raw_transaction\u001b[0;34m(self, transaction)\u001b[0m\n\u001b[1;32m    394\u001b[0m \u001b[0;34m\u001b[0m\u001b[0m\n\u001b[1;32m    395\u001b[0m     \u001b[0;32mdef\u001b[0m \u001b[0msend_raw_transaction\u001b[0m\u001b[0;34m(\u001b[0m\u001b[0mself\u001b[0m\u001b[0;34m,\u001b[0m \u001b[0mtransaction\u001b[0m\u001b[0;34m:\u001b[0m \u001b[0mUnion\u001b[0m\u001b[0;34m[\u001b[0m\u001b[0mHexStr\u001b[0m\u001b[0;34m,\u001b[0m \u001b[0mbytes\u001b[0m\u001b[0;34m]\u001b[0m\u001b[0;34m)\u001b[0m \u001b[0;34m->\u001b[0m \u001b[0mHexBytes\u001b[0m\u001b[0;34m:\u001b[0m\u001b[0;34m\u001b[0m\u001b[0;34m\u001b[0m\u001b[0m\n\u001b[0;32m--> 396\u001b[0;31m         \u001b[0;32mreturn\u001b[0m \u001b[0mself\u001b[0m\u001b[0;34m.\u001b[0m\u001b[0m_send_raw_transaction\u001b[0m\u001b[0;34m(\u001b[0m\u001b[0mtransaction\u001b[0m\u001b[0;34m)\u001b[0m\u001b[0;34m\u001b[0m\u001b[0;34m\u001b[0m\u001b[0m\n\u001b[0m\u001b[1;32m    397\u001b[0m \u001b[0;34m\u001b[0m\u001b[0m\n\u001b[1;32m    398\u001b[0m     \u001b[0;31m# eth_getBlockByHash\u001b[0m\u001b[0;34m\u001b[0m\u001b[0;34m\u001b[0m\u001b[0m\n",
            "\u001b[0;32m/usr/local/lib/python3.10/dist-packages/web3/module.py\u001b[0m in \u001b[0;36mcaller\u001b[0;34m(*args, **kwargs)\u001b[0m\n\u001b[1;32m     73\u001b[0m             \u001b[0mnull_result_formatters\u001b[0m\u001b[0;34m,\u001b[0m\u001b[0;34m\u001b[0m\u001b[0;34m\u001b[0m\u001b[0m\n\u001b[1;32m     74\u001b[0m         ) = response_formatters\n\u001b[0;32m---> 75\u001b[0;31m         result = w3.manager.request_blocking(\n\u001b[0m\u001b[1;32m     76\u001b[0m             \u001b[0mmethod_str\u001b[0m\u001b[0;34m,\u001b[0m \u001b[0mparams\u001b[0m\u001b[0;34m,\u001b[0m \u001b[0merror_formatters\u001b[0m\u001b[0;34m,\u001b[0m \u001b[0mnull_result_formatters\u001b[0m\u001b[0;34m\u001b[0m\u001b[0;34m\u001b[0m\u001b[0m\n\u001b[1;32m     77\u001b[0m         )\n",
            "\u001b[0;32m/usr/local/lib/python3.10/dist-packages/web3/manager.py\u001b[0m in \u001b[0;36mrequest_blocking\u001b[0;34m(self, method, params, error_formatters, null_result_formatters)\u001b[0m\n\u001b[1;32m    328\u001b[0m         \"\"\"\n\u001b[1;32m    329\u001b[0m         \u001b[0mresponse\u001b[0m \u001b[0;34m=\u001b[0m \u001b[0mself\u001b[0m\u001b[0;34m.\u001b[0m\u001b[0m_make_request\u001b[0m\u001b[0;34m(\u001b[0m\u001b[0mmethod\u001b[0m\u001b[0;34m,\u001b[0m \u001b[0mparams\u001b[0m\u001b[0;34m)\u001b[0m\u001b[0;34m\u001b[0m\u001b[0;34m\u001b[0m\u001b[0m\n\u001b[0;32m--> 330\u001b[0;31m         return self.formatted_response(\n\u001b[0m\u001b[1;32m    331\u001b[0m             \u001b[0mresponse\u001b[0m\u001b[0;34m,\u001b[0m \u001b[0mparams\u001b[0m\u001b[0;34m,\u001b[0m \u001b[0merror_formatters\u001b[0m\u001b[0;34m,\u001b[0m \u001b[0mnull_result_formatters\u001b[0m\u001b[0;34m\u001b[0m\u001b[0;34m\u001b[0m\u001b[0m\n\u001b[1;32m    332\u001b[0m         )\n",
            "\u001b[0;32m/usr/local/lib/python3.10/dist-packages/web3/manager.py\u001b[0m in \u001b[0;36mformatted_response\u001b[0;34m(response, params, error_formatters, null_result_formatters)\u001b[0m\n\u001b[1;32m    291\u001b[0m             \u001b[0mapply_error_formatters\u001b[0m\u001b[0;34m(\u001b[0m\u001b[0merror_formatters\u001b[0m\u001b[0;34m,\u001b[0m \u001b[0mresponse\u001b[0m\u001b[0;34m)\u001b[0m\u001b[0;34m\u001b[0m\u001b[0;34m\u001b[0m\u001b[0m\n\u001b[1;32m    292\u001b[0m \u001b[0;34m\u001b[0m\u001b[0m\n\u001b[0;32m--> 293\u001b[0;31m             \u001b[0;32mraise\u001b[0m \u001b[0mValueError\u001b[0m\u001b[0;34m(\u001b[0m\u001b[0merror\u001b[0m\u001b[0;34m)\u001b[0m\u001b[0;34m\u001b[0m\u001b[0;34m\u001b[0m\u001b[0m\n\u001b[0m\u001b[1;32m    294\u001b[0m \u001b[0;34m\u001b[0m\u001b[0m\n\u001b[1;32m    295\u001b[0m         \u001b[0;31m# Format and validate results\u001b[0m\u001b[0;34m\u001b[0m\u001b[0;34m\u001b[0m\u001b[0m\n",
            "\u001b[0;31mValueError\u001b[0m: {'code': -32000, 'message': 'insufficient funds for gas * price + value: balance 125219037626220, tx cost 2500005975772053, overshot 2374786938145833'}"
          ]
        }
      ],
      "source": [
        "from web3 import Web3\n",
        "import json\n",
        "\n",
        "# Inisialisasi Web3\n",
        "web3 = Web3(Web3.HTTPProvider('https://base-mainnet.core.chainstack.com/96db4e6b368f402cf1eed404e332ed8c'))  # Ganti dengan provider yang sesuai\n",
        "\n",
        "# Informasi akun\n",
        "private_key = '0xdc9e7b5ab59e423954a9f4b851fad1631b36a93d2c40a922bf6128ff0adbafb9'  # Ganti dengan private key Anda\n",
        "account = web3.eth.account.from_key(private_key)\n",
        "\n",
        "# Alamat kontrak token\n",
        "from_token_address = Web3.to_checksum_address('0xcC0733b7Ba63b446624002441c4816D7FEc8F4E0')  # Simpsons Token\n",
        "to_token_address = Web3.to_checksum_address('0x4200000000000000000000000000000000000006')  # WETH\n",
        "\n",
        "# Alamat router Uniswap\n",
        "uniswap_router_address = Web3.to_checksum_address('0x7a250d5630b4cf539739df2c5dacab63606c6985')  # Uniswap v2 Router address (ganti jika berbeda untuk jaringan Base)\n",
        "\n",
        "# ABI dari router Uniswap (simplified version)\n",
        "uniswap_router_abi = uniswap_router_abi  # Ganti dengan ABI lengkap\n",
        "\n",
        "# Membuat instance kontrak router Uniswap\n",
        "uniswap = web3.eth.contract(address=uniswap_router_address, abi=uniswap_router_abi)\n",
        "\n",
        "# Alamat kontrak Simpsons Token\n",
        "simpsons_token_address = Web3.to_checksum_address('0xcC0733b7Ba63b446624002441c4816D7FEc8F4E0')\n",
        "\n",
        "# ABI dari token ERC-20 (simplified version)\n",
        "erc20_abi = uniswap_router_abi  # Ganti dengan ABI lengkap\n",
        "\n",
        "# Membuat instance kontrak token Simpsons\n",
        "simpsons_token = web3.eth.contract(address=simpsons_token_address, abi=erc20_abi)\n",
        "\n",
        "# Jumlah token yang akan di-approve dan di-swap\n",
        "amount_to_approve_and_swap = web3.to_wei(1, 'ether')  # Sesuaikan dengan jumlah yang benar\n",
        "\n",
        "# Approve token transfer\n",
        "approve_tx = simpsons_token.functions.approve(uniswap_router_address, amount_to_approve_and_swap).build_transaction({\n",
        "    'from': account.address,\n",
        "    'nonce': web3.eth.get_transaction_count(account.address),\n",
        "    'gas': 50000,  # Gas limit untuk transaksi approve\n",
        "    'gasPrice': web3.to_wei('50', 'gwei'),\n",
        "    'chainId': 8453  # Chain ID untuk jaringan Base\n",
        "})\n",
        "\n",
        "# Menandatangani transaksi approve\n",
        "signed_approve_tx = web3.eth.account.sign_transaction(approve_tx, private_key)\n",
        "\n",
        "# Mengirim transaksi approve\n",
        "approve_txn_hash = web3.eth.send_raw_transaction(signed_approve_tx.rawTransaction)\n",
        "\n",
        "# Menunggu transaksi approve untuk dikonfirmasi\n",
        "web3.eth.wait_for_transaction_receipt(approve_txn_hash)\n",
        "\n",
        "print(f\"Approve transaction sent with hash: https://basescan.org/tx/{approve_txn_hash.hex()}\")\n",
        "\n",
        "# Swap token Simpsons ke WETH\n",
        "amount_out_min = 0  # Minimum jumlah token tujuan yang diharapkan (slippage tolerance)\n",
        "path = [from_token_address, to_token_address]\n",
        "deadline = web3.eth.get_block('latest')['timestamp'] + 600  # Waktu batas transaksi dalam detik (misal 10 menit dari sekarang)\n",
        "\n",
        "nonce = web3.eth.get_transaction_count(account.address)\n",
        "\n",
        "# Membuat transaksi untuk swap\n",
        "swap_tx = uniswap.functions.swapExactTokensForTokens(\n",
        "    amount_to_approve_and_swap,\n",
        "    amount_out_min,\n",
        "    path,\n",
        "    account.address,\n",
        "    deadline\n",
        ").build_transaction({\n",
        "    'from': account.address,\n",
        "    'nonce': nonce,\n",
        "    'gas': 200000,  # Anda mungkin perlu menyesuaikan gas limit\n",
        "    'gasPrice': web3.to_wei('50', 'gwei'),\n",
        "    'chainId': 8453  # Chain ID untuk jaringan Base\n",
        "})\n",
        "\n",
        "# Menandatangani transaksi swap\n",
        "signed_swap_tx = web3.eth.account.sign_transaction(swap_tx, private_key)\n",
        "\n",
        "# Mengirim transaksi swap\n",
        "swap_txn_hash = web3.eth.send_raw_transaction(signed_swap_tx.rawTransaction)\n",
        "\n",
        "# Mendapatkan hash transaksi swap\n",
        "print(f\"Swap transaction sent with hash: https://basescan.org/tx/{swap_txn_hash.hex()}\")\n"
      ]
    },
    {
      "cell_type": "code",
      "execution_count": null,
      "metadata": {
        "colab": {
          "base_uri": "https://localhost:8080/",
          "height": 358
        },
        "id": "uqdX_-EGGdkr",
        "outputId": "6741bc59-dbb6-418e-e186-816f59e747f9"
      },
      "outputs": [
        {
          "ename": "ABIFunctionNotFound",
          "evalue": "(\"The function 'swapExactTokensForTokens' was not found in this contract's abi.\", ' Are you sure you provided the correct contract abi?')",
          "output_type": "error",
          "traceback": [
            "\u001b[0;31m---------------------------------------------------------------------------\u001b[0m",
            "\u001b[0;31mABIFunctionNotFound\u001b[0m                       Traceback (most recent call last)",
            "\u001b[0;32m<ipython-input-6-983fed3b1f54>\u001b[0m in \u001b[0;36m<cell line: 9>\u001b[0;34m()\u001b[0m\n\u001b[1;32m      7\u001b[0m \u001b[0;34m\u001b[0m\u001b[0m\n\u001b[1;32m      8\u001b[0m \u001b[0mnonce\u001b[0m \u001b[0;34m=\u001b[0m \u001b[0mweb3\u001b[0m\u001b[0;34m.\u001b[0m\u001b[0meth\u001b[0m\u001b[0;34m.\u001b[0m\u001b[0mget_transaction_count\u001b[0m\u001b[0;34m(\u001b[0m\u001b[0maccount\u001b[0m\u001b[0;34m.\u001b[0m\u001b[0maddress\u001b[0m\u001b[0;34m)\u001b[0m\u001b[0;34m\u001b[0m\u001b[0;34m\u001b[0m\u001b[0m\n\u001b[0;32m----> 9\u001b[0;31m transaction = uniswap.functions.swapExactTokensForTokens(\n\u001b[0m\u001b[1;32m     10\u001b[0m     \u001b[0mamount_in\u001b[0m\u001b[0;34m,\u001b[0m\u001b[0;34m\u001b[0m\u001b[0;34m\u001b[0m\u001b[0m\n\u001b[1;32m     11\u001b[0m     \u001b[0mamount_out_min\u001b[0m\u001b[0;34m,\u001b[0m\u001b[0;34m\u001b[0m\u001b[0;34m\u001b[0m\u001b[0m\n",
            "\u001b[0;32m/usr/local/lib/python3.10/dist-packages/web3/contract/contract.py\u001b[0m in \u001b[0;36m__getattr__\u001b[0;34m(self, function_name)\u001b[0m\n\u001b[1;32m    419\u001b[0m             )\n\u001b[1;32m    420\u001b[0m         \u001b[0;32melif\u001b[0m \u001b[0mfunction_name\u001b[0m \u001b[0;32mnot\u001b[0m \u001b[0;32min\u001b[0m \u001b[0mself\u001b[0m\u001b[0;34m.\u001b[0m\u001b[0m__dict__\u001b[0m\u001b[0;34m[\u001b[0m\u001b[0;34m\"_functions\"\u001b[0m\u001b[0;34m]\u001b[0m\u001b[0;34m:\u001b[0m\u001b[0;34m\u001b[0m\u001b[0;34m\u001b[0m\u001b[0m\n\u001b[0;32m--> 421\u001b[0;31m             raise ABIFunctionNotFound(\n\u001b[0m\u001b[1;32m    422\u001b[0m                 \u001b[0;34mf\"The function '{function_name}' was not found in this contract's abi.\"\u001b[0m\u001b[0;34m,\u001b[0m\u001b[0;34m\u001b[0m\u001b[0;34m\u001b[0m\u001b[0m\n\u001b[1;32m    423\u001b[0m                 \u001b[0;34m\" Are you sure you provided the correct contract abi?\"\u001b[0m\u001b[0;34m,\u001b[0m\u001b[0;34m\u001b[0m\u001b[0;34m\u001b[0m\u001b[0m\n",
            "\u001b[0;31mABIFunctionNotFound\u001b[0m: (\"The function 'swapExactTokensForTokens' was not found in this contract's abi.\", ' Are you sure you provided the correct contract abi?')"
          ]
        }
      ],
      "source": [
        "from_token_address = Web3.to_checksum_address('0x065Fb34B62701C4f589533DA2B6b9Fb3fe42C562')  # Ganti dengan alamat token yang akan di-swap\n",
        "to_token_address = Web3.to_checksum_address('0xcC0733b7Ba63b446624002441c4816D7FEc8F4E0')  # Ganti dengan alamat token tujuan\n",
        "amount_in = web3.to_wei(1, 'ether')  # Jumlah token yang akan di-swap\n",
        "amount_out_min = 0  # Minimum jumlah token tujuan yang diharapkan (slippage tolerance)\n",
        "path = [from_token_address, to_token_address]\n",
        "deadline = web3.eth.get_block('latest')['timestamp'] + 600  # Waktu batas transaksi dalam detik (misal 10 menit dari sekarang)\n",
        "\n",
        "nonce = web3.eth.get_transaction_count(account.address)\n",
        "transaction = uniswap.functions.swapExactTokensForTokens(\n",
        "    amount_in,\n",
        "    amount_out_min,\n",
        "    path,\n",
        "    account.address,\n",
        "    deadline\n",
        ").build_transaction({\n",
        "    'from': account.address,\n",
        "    'nonce': nonce,\n",
        "    'gas': 200000,  # Anda mungkin perlu menyesuaikan gas limit\n",
        "    'gasPrice': web3.to_wei('50', 'gwei'),\n",
        "    'chainId': 8453\n",
        "})\n"
      ]
    }
  ],
  "metadata": {
    "colab": {
      "authorship_tag": "ABX9TyMOrN9O2eyEeB+U7KuQmHWP",
      "include_colab_link": true,
      "provenance": []
    },
    "kernelspec": {
      "display_name": "Python 3",
      "name": "python3"
    },
    "language_info": {
      "name": "python",
      "version": "3.12.4"
    }
  },
  "nbformat": 4,
  "nbformat_minor": 0
}
